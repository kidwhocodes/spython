{
 "cells": [
  {
   "cell_type": "code",
   "execution_count": 37,
   "metadata": {},
   "outputs": [
    {
     "name": "stdout",
     "output_type": "stream",
     "text": [
      "Training Set Mean Absolute Error: 105151.02\n",
      "Test Set Mean Absolute Error: 163143.18\n"
     ]
    }
   ],
   "source": [
    "# Import Libraries\n",
    "import pandas as pd\n",
    "from sklearn.model_selection import train_test_split\n",
    "from sklearn import ensemble\n",
    "from sklearn.metrics import mean_absolute_error\n",
    "from sklearn.externals import joblib\n",
    "\n",
    "#Read in Data from CSV as a Pandas Dataframe\n",
    "df = pd.read_csv('~/git/spython/melbourne-housing-market/Melbourne_housing_FULL.csv')\n",
    "\n",
    "#Set up Data\n",
    "del df['Address']\n",
    "del df['Method']\n",
    "del df['SellerG']\n",
    "del df['Date']\n",
    "del df['Postcode']\n",
    "del df['Lattitude']\n",
    "del df['Longtitude']\n",
    "del df['Regionname']\n",
    "del df['Propertycount']\n",
    " \n",
    "df.dropna(axis = 0, how = 'any', thresh = None, subset = None, inplace = True)\n",
    "\n",
    "features_df = pd.get_dummies(df, columns = ['Suburb', 'CouncilArea', 'Type'])\n",
    "\n",
    "del features_df['Price']\n",
    "\n",
    "x = features_df.values\n",
    "y = df['Price'].values\n",
    "\n",
    "x_train, x_test, y_train, y_test = train_test_split(x, y, test_size = 0.3, shuffle = True)\n",
    "\n",
    "# the Algorothm\n",
    "model = ensemble.GradientBoostingRegressor(\n",
    "n_estimators = 150,\n",
    "learning_rate = 0.1,\n",
    "max_depth = 9,\n",
    "min_samples_split = 8,\n",
    "min_samples_leaf = 8,\n",
    "max_features = 0.6,\n",
    "loss = 'huber'\n",
    ")\n",
    "\n",
    "model.fit(x_train, y_train)\n",
    "\n",
    "joblib.dump(model, 'trained_model.pkl')\n",
    "\n",
    "#Results\n",
    "mse = mean_absolute_error(y_train, model.predict(x_train))\n",
    "print (\"Training Set Mean Absolute Error: %.2f\" % mse)\n",
    "\n",
    "mse = mean_absolute_error(y_test, model.predict(x_test))\n",
    "print (\"Test Set Mean Absolute Error: %.2f\" % mse)"
   ]
  },
  {
   "cell_type": "code",
   "execution_count": null,
   "metadata": {},
   "outputs": [],
   "source": []
  },
  {
   "cell_type": "code",
   "execution_count": null,
   "metadata": {},
   "outputs": [],
   "source": []
  },
  {
   "cell_type": "code",
   "execution_count": null,
   "metadata": {},
   "outputs": [],
   "source": []
  },
  {
   "cell_type": "code",
   "execution_count": null,
   "metadata": {},
   "outputs": [],
   "source": []
  },
  {
   "cell_type": "code",
   "execution_count": null,
   "metadata": {},
   "outputs": [],
   "source": []
  },
  {
   "cell_type": "code",
   "execution_count": null,
   "metadata": {},
   "outputs": [],
   "source": []
  },
  {
   "cell_type": "code",
   "execution_count": null,
   "metadata": {},
   "outputs": [],
   "source": []
  },
  {
   "cell_type": "code",
   "execution_count": null,
   "metadata": {},
   "outputs": [],
   "source": []
  }
 ],
 "metadata": {
  "kernelspec": {
   "display_name": "Python 3",
   "language": "python",
   "name": "python3"
  },
  "language_info": {
   "codemirror_mode": {
    "name": "ipython",
    "version": 3
   },
   "file_extension": ".py",
   "mimetype": "text/x-python",
   "name": "python",
   "nbconvert_exporter": "python",
   "pygments_lexer": "ipython3",
   "version": "3.7.4"
  }
 },
 "nbformat": 4,
 "nbformat_minor": 2
}
